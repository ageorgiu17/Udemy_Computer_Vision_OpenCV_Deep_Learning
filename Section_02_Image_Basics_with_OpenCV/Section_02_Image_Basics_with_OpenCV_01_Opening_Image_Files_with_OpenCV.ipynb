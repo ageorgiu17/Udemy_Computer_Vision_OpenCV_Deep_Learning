{
 "cells": [
  {
   "cell_type": "markdown",
   "metadata": {},
   "source": [
    "# Opening Images with OpenCV"
   ]
  },
  {
   "attachments": {},
   "cell_type": "markdown",
   "metadata": {},
   "source": [
    "În cadrul acestei lecții o să învățăm cum anume putem să deschide anumite imagini cu librăria OpenCV (până acuma am deschis cu matplotlib) și cum putem să facem asta și în cadrul unui script de python. Pentru anumite analize mai complexe asupra imaginilor o să fim nevoiți să afișăm aceste imagini în afara unui Jupyter Notebook. În momentul în care afișăm o imagine în afara Jupyter Notebook folosind librăria de OpenCV există posibilitatea să arapă o eroare atunci când închidem fereastra respectivă. Pentru a rezolva această problemă trebuie să îi dăm un restart la kernel."
   ]
  },
  {
   "cell_type": "code",
   "execution_count": 1,
   "metadata": {},
   "outputs": [],
   "source": [
    "import cv2\n",
    "\n",
    "image = cv2.imread('../DATA/00-puppy.jpg')"
   ]
  },
  {
   "attachments": {},
   "cell_type": "markdown",
   "metadata": {},
   "source": [
    "Atunci când utilizâm OpenCV pentru a afișa o anumită imagine aceasta o să se deschidă într-o fereastră nouă. Pentru a afișa imaginea o să ne folosim de comanda cv2.imshow() care ia două argumente. Primul reprezintă numele acelei ferestre pe care dorim să îl aibă, iar al doilea reprezintă imaginea pe care dorim să o afișăm"
   ]
  },
  {
   "cell_type": "code",
   "execution_count": null,
   "metadata": {},
   "outputs": [],
   "source": [
    "cv2.imshow('Puppy', image)"
   ]
  },
  {
   "attachments": {},
   "cell_type": "markdown",
   "metadata": {},
   "source": [
    "Ce mai trebuie adăugat pe lângă această comandă este o altă comandă prin care să îi spunem calculatorului cât timp să deschidă această fereastră cu imaginea deschisă. Pentru asta o să ne folosim de metoda cv2.waitKey(). Comanda de mai sus îi spune calculatorului să deschidă imaginea respectivă deschisă până ce închide utiliatorul fereastra cu clik. "
   ]
  },
  {
   "cell_type": "code",
   "execution_count": null,
   "metadata": {},
   "outputs": [],
   "source": [
    "cv2.waitKey()"
   ]
  },
  {
   "attachments": {},
   "cell_type": "markdown",
   "metadata": {},
   "source": [
    "Pentru a fucnționa corespunzător, toate liniile de cod de mai sus trebuie să le punem într-un cell separat."
   ]
  },
  {
   "cell_type": "code",
   "execution_count": 2,
   "metadata": {},
   "outputs": [],
   "source": [
    "import cv2\n",
    "\n",
    "image = cv2.imread('../DATA/00-puppy.jpg')\n",
    "cv2.imshow(\"Puppy\", image)\n",
    "cv2.waitKey()"
   ]
  },
  {
   "attachments": {},
   "cell_type": "markdown",
   "metadata": {},
   "source": [
    "În momentul în care am rulat codul de mai sus pe ecran ne-a apărut o fereastră în care aveam imaginea respectivă"
   ]
  },
  {
   "attachments": {},
   "cell_type": "markdown",
   "metadata": {},
   "source": [
    "<img src='../SS/cv2_imshow.png'>"
   ]
  },
  {
   "attachments": {},
   "cell_type": "markdown",
   "metadata": {},
   "source": [
    "Codul din celula respectivă rulează până în momentul în care închidem acea fereastră apărută. Această modalitate de a deschide imagini în ferestre diferite utilizând Jupyter Notebook nu este tocmai cea mai optimă, din acest motiv o să deschidem și astfel de imagini utilizând un script de Python. Putem să punem codul din celula de mai sus într-un script de Python, dar totuși la el mai trebuie făcute câteva modificări pentru a funcționa."
   ]
  },
  {
   "attachments": {},
   "cell_type": "markdown",
   "metadata": {},
   "source": [
    "<img src='../SS/script_03.png'>"
   ]
  },
  {
   "attachments": {},
   "cell_type": "markdown",
   "metadata": {},
   "source": [
    "Am adăugat acele linii de cod într-un script de Python, dar dacă îl rulăm așa nu o să apucă să vedem imaginea deoarece o să o înhidă prea repede ca să o putem observa. Pentru asta trebuie să punem linia de cod 'cv.imshow('Puppy', image)' în cadrul unei bucle While, buclă pe care o să o facem infinită, dar din care totuși putem să ieșim atunci când închidem imaginea"
   ]
  },
  {
   "attachments": {},
   "cell_type": "markdown",
   "metadata": {},
   "source": [
    "<img src='../SS/script_04.png'>"
   ]
  },
  {
   "attachments": {},
   "cell_type": "markdown",
   "metadata": {},
   "source": [
    "Problema cu acest cod de mai sus este faptul că acuma din moment ce avem acea buclă While, la cum este scris codul, imaginea respectivă o să ne fie afișată la nesfârșit și nu o să putem să ieșim din imagine doar dacă oprim procesul care rulează. Pentru a rezolva această problemă o să modificăm codul de mai sus prin adăugarea două clauze"
   ]
  },
  {
   "attachments": {},
   "cell_type": "markdown",
   "metadata": {},
   "source": [
    "<img src='../SS/script_06.png'>"
   ]
  },
  {
   "attachments": {},
   "cell_type": "markdown",
   "metadata": {},
   "source": [
    "De foarte multe ori când lucrăm cu OpenCV o să vedem codul 'if cv2.waikey(1) & 0xFF == 17'. Codul de mai sus are rolul de a ținea imaginea deschisă în acea fereastră nou care apare atâta timp până ce apăsăm tasta 'ESC'. (0xFF == 27) este condiția care verifică dacă am apăsat tasta ESC. La finalul codului mai trebuie să adăugăm și comanda cv2.destroyAllWindows() pentru a șterge definitiv toate ferestrele care au fost create de către acest script."
   ]
  },
  {
   "attachments": {},
   "cell_type": "markdown",
   "metadata": {},
   "source": [
    "După ce am finalizat codul putem să îl rulăm dintr-un terminal. Când rulăm codul din terminal o să ne apară imaginea respectivă în cadrul unei noi ferestre și o să se închidă atunci când apăsăm tasta ESC"
   ]
  },
  {
   "attachments": {},
   "cell_type": "markdown",
   "metadata": {},
   "source": [
    "## Recapitulare"
   ]
  },
  {
   "attachments": {},
   "cell_type": "markdown",
   "metadata": {},
   "source": [
    "În cadrul acestei lecții am învățat:\n",
    "\n",
    "    1. Cum să afișăm o imagine într-un JupyterNotebook utilizând librăria OpenCV\n",
    "\n",
    "        import cv2\n",
    "\n",
    "        image = cv2.imread(path_to_image)\n",
    "\n",
    "        cv2.imshow('Image Window', image)\n",
    "\n",
    "        cv2.waitKey()\n",
    "\n",
    "            # deschiderea imaginilor cu librăria OpenCV nu este cea mai indicată într-un JupyterNotebook (o să rămânem cel mai mult la Matplotlib pentru asta)\n",
    "\n",
    "    2. Cum să deschidem o imagine dintr-un script de Python\n",
    "\n",
    "        import cv2\n",
    "\n",
    "        image = cv2.imread(path_to_image)\n",
    "\n",
    "        while True:\n",
    "\n",
    "            cv2.imshow('Image Window', image)\n",
    "\n",
    "            if cv2.waitKey(1) & 0xFF == 27:\n",
    "\n",
    "                break\n",
    "\n",
    "        cv2.destroyAllWindows()\n",
    "\n",
    "    "
   ]
  },
  {
   "cell_type": "markdown",
   "metadata": {},
   "source": []
  }
 ],
 "metadata": {
  "kernelspec": {
   "display_name": "venv",
   "language": "python",
   "name": "python3"
  },
  "language_info": {
   "codemirror_mode": {
    "name": "ipython",
    "version": 3
   },
   "file_extension": ".py",
   "mimetype": "text/x-python",
   "name": "python",
   "nbconvert_exporter": "python",
   "pygments_lexer": "ipython3",
   "version": "3.9.12"
  },
  "orig_nbformat": 4
 },
 "nbformat": 4,
 "nbformat_minor": 2
}
