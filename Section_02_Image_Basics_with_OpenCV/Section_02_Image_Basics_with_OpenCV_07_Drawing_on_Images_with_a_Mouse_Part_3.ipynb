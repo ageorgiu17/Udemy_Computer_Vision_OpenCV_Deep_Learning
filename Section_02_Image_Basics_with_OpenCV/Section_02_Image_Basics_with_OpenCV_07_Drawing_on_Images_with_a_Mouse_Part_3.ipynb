{
 "cells": [
  {
   "attachments": {},
   "cell_type": "markdown",
   "metadata": {},
   "source": [
    "# Draw on images with a mouse - Part 3"
   ]
  },
  {
   "attachments": {},
   "cell_type": "markdown",
   "metadata": {},
   "source": [
    "Până în acest moment am învățat cum anume să desenăm anumite obiecte pe o imagine. Formele pe care le-am desenat avea o dimensiune prestabilită atunci când se creeau și nu puteam să modificăm această dimensiunea doar prin cod. În cadrul acestei secțiuni o să învățăm cum anume putem să creem un dreptunghi a cărui dimensiune să fie calculată cu ajutorul mouse-ului. Atunci când apăsăm click să înceapă să deseneze acel dreptunghi, iar dacă ținem apăsat pe click și tragem în jos, atunci dimensiunea acelui dreptunghi să se modifice. Când lăsăm click-ul atunci s-a terminat de desenat dreptunghiul respectiv. În cadrul acestui script o să avem nevoie de trei secțiuni, una de variabile pe care o să le folosim, funcția care se ocupă cu partea de desenat și secțiunea în care afișăm imaginea."
   ]
  },
  {
   "cell_type": "code",
   "execution_count": null,
   "metadata": {},
   "outputs": [],
   "source": [
    "import numpy as np\n",
    "import cv2\n",
    "\n",
    "## Variables\n",
    "\n",
    "## Function\n",
    "\n",
    "## Image shown"
   ]
  },
  {
   "attachments": {},
   "cell_type": "markdown",
   "metadata": {},
   "source": [
    "O să începem cu partea în care ne conectăm fereastra unde apare imaginea către o funcție de callback (cum am învățat în părțile trecute)"
   ]
  },
  {
   "cell_type": "code",
   "execution_count": null,
   "metadata": {},
   "outputs": [],
   "source": [
    "import numpy as np\n",
    "import cv2\n",
    "\n",
    "blank_image = np.zeros(shape=(512, 512, 3), dtype=np.int32)\n",
    "\n",
    "## Variables\n",
    "\n",
    "## Function\n",
    "def draw_rectangle(event, x, y, flags, params):\n",
    "    pass\n",
    "\n",
    "## Image shown\n",
    "cv2.namedWindow(winname='drawing_03')\n",
    "cv2.setMouseCallback('drawing_03', draw_rectangle)\n",
    "\n",
    "while True:\n",
    "    cv2.imshow('drawing_03', blank_image)\n",
    "    if cv2.waitKey(10) & 0xFF == 27:\n",
    "        break\n",
    "\n",
    "cv2.destroyAllWindows()"
   ]
  },
  {
   "attachments": {},
   "cell_type": "markdown",
   "metadata": {},
   "source": [
    "Urmează să creem partea de variabile. O să avem două variabile importante, prima o să o denumim 'drawing' și o să conțină valori booleane. Pentru inițializare o să îi atribuim valoarea False. Valoarea acestei variabile o să se modifice la True atunci când apare envent-ul de cv2.EVENT_LBUTTONDOWN și o să tot fie valoare True atâta timp cât acel event este îndeplinit, adică cât timp ținem cu degetul apăsat pe left click. Atunci când ridicăm mâna de pe click stânga, valoarea acestei variabile o să fie schimbată iar la False. O să ne mai folosim și de variabilele ix și iy cărora o să le dăm valoare -1. O să vedem la ce ne ajută aceste variabile."
   ]
  },
  {
   "cell_type": "code",
   "execution_count": null,
   "metadata": {},
   "outputs": [],
   "source": [
    "## Variables\n",
    "drawing = False\n",
    "ix, iy = -1, -1"
   ]
  },
  {
   "attachments": {},
   "cell_type": "markdown",
   "metadata": {},
   "source": [
    "În funcția de draw_rectangle() o să ne folosim de aceste valori ale variabilelor definite mai sus. Pentru a face referință la anumite variabile gloabale o să utilizăm comanda 'global' urmat de numele variabilelor"
   ]
  },
  {
   "cell_type": "code",
   "execution_count": null,
   "metadata": {},
   "outputs": [],
   "source": [
    "## Function\n",
    "def draw_rectangle(event, x, y, flags, params):\n",
    "    global ix, iy, drawing\n",
    "     "
   ]
  },
  {
   "attachments": {},
   "cell_type": "markdown",
   "metadata": {},
   "source": [
    "În continuare o să verificăm mai multe event-uri care pot să apară ce o să ne ajute să desenăm acest dreptunghi. Pentru început o să începem cu event-ul cv2.EVENT_LBUTTONDOWN. Acest event verifică dacă s-a apăsat click-ul. Dacă click-ul s-a apăsat, atunci trebuie să modificăm valoarea pentru variabila globală drawing, deoarece atunci când apăsăm pe click începem să desenăm. Mai trebuie să salvăm și coordonatele punctului unde este situat mouse-ul, acesta o să fie salvate în variabilele ix și iy"
   ]
  },
  {
   "cell_type": "code",
   "execution_count": null,
   "metadata": {},
   "outputs": [],
   "source": [
    "## Function\n",
    "def draw_rectangle(event, x, y, flags, params):\n",
    "    global ix, iy, drawing\n",
    "\n",
    "    if event == cv2.EVENT_LBUTTONDOWN:\n",
    "        drawing = True\n",
    "        ix, iy = x, y"
   ]
  },
  {
   "attachments": {},
   "cell_type": "markdown",
   "metadata": {},
   "source": [
    "După ce verificăm dacă am apăsat click stânga trebuie să verificăm dacă mouse-ul se mișcă pe imaginea respectivă. La acest event trebuie să vedem și dacă click stânga este apăsat atunci când mouse-ul se mișcă, deoarece este posibil ca mouse-ul să se miște, dar click-ul să nu fie apăsat. Dacă click-ul este apăsat și mouse-ul se mișcă, atunci trebuie să desenăm acel dreptunghi pe imaginea respectivă."
   ]
  },
  {
   "cell_type": "code",
   "execution_count": null,
   "metadata": {},
   "outputs": [],
   "source": [
    "def draw_rectangle(event, x, y, flags, params):\n",
    "    global drawing, ix, iy\n",
    "    if event == cv2.EVENT_LBUTTONDOWN:\n",
    "        drawing = True\n",
    "        ix, iy = x, y\n",
    "    \n",
    "    elif event == cv2.EVENT_MOUSEMOVE:\n",
    "        if drawing == True:\n",
    "            cv2.rectangle(img=blank_image, pt1=(ix, iy), pt2=(x, y), color=(0, 255, 0), thickness=-1)\n"
   ]
  },
  {
   "attachments": {},
   "cell_type": "markdown",
   "metadata": {},
   "source": [
    "Ce s-ar întâmpla dacă am rula așa codul, ei bine atunci când am apăsa click stânga ar începe să se deseneze acel dreptunghi, dar nu o să se mai oprească niciodată deoarece valoare de la variabila drawing o să fie setată la True, prin urmare și dacă nu mai apăsăm click, tot o să se deseneze acel dreptunghi. Pentru a rezolva problema aceasta trebuie ca atunci când apare event-ul de cv2.EVENT_LBUTTONUP (adică atunci când ridicăm degetul de pe click) să oprim desenarea acelui dreptunghi (asta se face prin setarea valorii variabilei 'drawing' la False). De asemenea după ce modificăm valoare variabilei 'drawing' la False o să trebuiasă să terminăm de desenat acel dreptunghi."
   ]
  },
  {
   "cell_type": "code",
   "execution_count": null,
   "metadata": {},
   "outputs": [],
   "source": [
    "def draw_rectangle(event, x, y, flags, params):\n",
    "    global drawing, ix, iy\n",
    "\n",
    "    if event == cv2.EVENT_LBUTTONDOWN:\n",
    "        drawing = True\n",
    "        ix, iy = x, y\n",
    "    \n",
    "    elif event == cv2.EVENT_MOUSEMOVE:\n",
    "        if drawing == True:\n",
    "            cv2.rectangle(img=blank_image, pt1=(ix, iy), pt2=(x, y), color=(0, 255, 0), thickness=-1)\n",
    "    \n",
    "    elif event == cv2.EVENT_LBUTTONUP:\n",
    "        drawing = False\n",
    "        cv2.rectangle(img=blank_image, pt1=(ix, iy), pt2=(x, y), color=(0, 255, 0), thickness=-1)"
   ]
  },
  {
   "attachments": {},
   "cell_type": "markdown",
   "metadata": {},
   "source": [
    "La final, codul o să arate așa:"
   ]
  },
  {
   "cell_type": "code",
   "execution_count": null,
   "metadata": {},
   "outputs": [],
   "source": [
    "import numpy as np\n",
    "import cv2\n",
    "\n",
    "blank_image = np.zeros(shape=(512, 512, 3), dtype=np.int8)\n",
    "\n",
    "## Variables\n",
    "drawing = False\n",
    "ix, iy = -1, -1\n",
    "\n",
    "\n",
    "## Function\n",
    "def draw_circle(event, x, y, flags, param):\n",
    "    global drawing, ix, iy\n",
    "    if event == cv2.EVENT_LBUTTONDOWN:\n",
    "        drawing = True\n",
    "        ix, iy = x, y\n",
    "    elif event == cv2.EVENT_MOUSEMOVE:\n",
    "        if drawing == True:\n",
    "            cv2.rectangle(\n",
    "                img=blank_image,\n",
    "                pt1=(ix, iy),\n",
    "                pt2=(x, y),\n",
    "                color=(0, 255, 0),\n",
    "                thickness=-1,\n",
    "            )\n",
    "    elif event == cv2.EVENT_LBUTTONUP:\n",
    "        drawing = False\n",
    "        cv2.rectangle(\n",
    "            img=blank_image,\n",
    "            pt1=(ix, iy),\n",
    "            pt2=(x, y),\n",
    "            color=(0, 255, 0),\n",
    "            thickness=-1,\n",
    "        )\n",
    "\n",
    "\n",
    "## Image shown\n",
    "cv2.namedWindow(winname=\"drawing2\")\n",
    "cv2.setMouseCallback(\"drawing2\", draw_circle)\n",
    "\n",
    "while True:\n",
    "    cv2.imshow(\"drawing2\", blank_image)\n",
    "    if cv2.waitKey(20) & 0xFF == 27:\n",
    "        break\n",
    "\n",
    "cv2.destroyAllWindows()"
   ]
  },
  {
   "attachments": {},
   "cell_type": "markdown",
   "metadata": {},
   "source": [
    "Putem să rulăm acest cod, iar atunci când o să îl rulăm o să ne apară o imagine. Atunci când facem click și tragem cu mouse-ul în stânga jos un dreptunghi o să fie creat. Dimensiunea acestui dreptunghi o să fie atâta de mare cât timp se ține click apăsat. Atunci când se lasă degetul de click stânga, nu o să se mai deseneze. De reținut faptul că un dreptunghi se desenează de la colțul stânga-sus la coțul dreapta-jos, iar cum este scris acuma codul, acesta tot creează anumite dreptunghiuri mici și intermediare (în timp ce se mișcă mouse-ul). Dacă nu se merge într-o direcție constantă, atunci acest dreptunghi o să aibă o formă extrem de ciudată."
   ]
  },
  {
   "attachments": {},
   "cell_type": "markdown",
   "metadata": {},
   "source": [
    "<img src='../SS/draw_04.png' width=400><img src='../SS/draw_05.png' width=400>"
   ]
  },
  {
   "attachments": {},
   "cell_type": "markdown",
   "metadata": {},
   "source": [
    "După cum se poate observa în cele două imagini, în momentul în care apăsăm click pe un punct de pe imagine și tragem în dreapt-jos mouse-ul, acesta o să ne creeze un dreptunghi, iar acesta se va tot mări cu cât continuăm să menținem click apăsat. Dacă nu se merge cu mouse-ul în direcția dreapt-jos, atunci ceea ce o să rezulte nu o să fie un dreptunghi. Acest lucru se poate observa în imaginea de jos. Dacă nu am avut o direcție constantă cu mouse-ul spre dreapta-jos și am tot mers în toate direcțiile, atunci forma care a ieșit nu este un dreptunghi. Acest lucru se întâmplă deoarece atunci când se creează acest dreptunghi defapt se creează mai multe dreptunghiuri mai mici"
   ]
  },
  {
   "attachments": {},
   "cell_type": "markdown",
   "metadata": {},
   "source": [
    "<img src='../SS/draw_06.png' width=400>"
   ]
  },
  {
   "attachments": {},
   "cell_type": "markdown",
   "metadata": {},
   "source": [
    "## Recapitulare"
   ]
  },
  {
   "attachments": {},
   "cell_type": "markdown",
   "metadata": {},
   "source": [
    "În cadrul acestei secțiuni am învățat următoarele:\n",
    "\n",
    "    1. Ca să interacționăm cu imaginea cu ajutorul mouse-ului pentru a desena un dreptunghi în timp ce ține click apăsat trebuie să împărțim codul în trei secțiuni\n",
    "\n",
    "        ## Variables\n",
    "\n",
    "        ## Function\n",
    "\n",
    "        ## Image shown\n",
    "\n",
    "    2. O să ne folosim de trei variabile globale\n",
    "\n",
    "        ## Variables\n",
    "\n",
    "        drawing = False\n",
    "\n",
    "        ix, iy = -1, -1\n",
    "\n",
    "    3. O să creem din nou o funcție care o să se ocupe de partea de desenat, dar aceasta o să fie un pic mai complexă, în ideea în care ne folosim și de acele variabile globale și o să avem mai multe condiții de verificat\n",
    "\n",
    "        def draw_rectangle(event, x, y, flags, params):\n",
    "\n",
    "            global drawing, ix, iy\n",
    "\n",
    "            if event == cv2.EVENT_LBUTTONDOWN:\n",
    "\n",
    "                drawing = True\n",
    "\n",
    "                ix, iy = x, y\n",
    "\n",
    "            elif event == cv2.EVENT_MOUSEMOVE:\n",
    "\n",
    "                if drawing == True:\n",
    "\n",
    "                    cv2.rectangle(img=blank_image, pt1=(ix, iy), pt2=(x, i), color=(0, 255, 0), thickness=-1)\n",
    "                \n",
    "            elif event == cv2.EVENT_LBUTTONUP:\n",
    "\n",
    "                drawing = False\n",
    "\n",
    "                cv2.rectangle(img=blank_image, pt1=(ix, iy), pt2=(x, i), color=(0, 255, 0), thickness=-1)\n",
    "\n",
    "    4. La final trebuie să afișăm imaginea și să o conectăm la acest Callback\n",
    "\n",
    "        cv2.namedWindow(winname='drawing_03')\n",
    "\n",
    "        cv2.setMouseCallback('drawing_03', draw_circle)\n",
    "\n",
    "        while True:\n",
    "\n",
    "            cv2.imshow('drawing_03', blank_image)\n",
    "\n",
    "            if cv2.waitKey(10) & 0xFF == 27:\n",
    "\n",
    "                break\n",
    "\n",
    "        cv2.destroyAllWindows()"
   ]
  },
  {
   "cell_type": "markdown",
   "metadata": {},
   "source": []
  }
 ],
 "metadata": {
  "language_info": {
   "name": "python"
  },
  "orig_nbformat": 4
 },
 "nbformat": 4,
 "nbformat_minor": 2
}
