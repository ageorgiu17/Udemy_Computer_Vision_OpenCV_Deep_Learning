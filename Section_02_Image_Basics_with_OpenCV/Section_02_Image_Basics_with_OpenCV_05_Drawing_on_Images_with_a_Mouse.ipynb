{
 "cells": [
  {
   "attachments": {},
   "cell_type": "markdown",
   "metadata": {},
   "source": [
    "# Draw on Images with a mouse"
   ]
  },
  {
   "attachments": {},
   "cell_type": "markdown",
   "metadata": {},
   "source": [
    "Până acuma am văzut cum anume putem desena anumite forme utilizând librăria OpenCV. Formele respective au fost creat utilizând metode specifice din OpenCV. De foarte multe ori o să fim nevoiți să interacționăm direct cu o imagine și să putem desena pe aceasta utilizându-ne de mouse. Putem să ne folosim de ceea ce este cunoscut sub denumirea de CallBacks ca să conectăm imaginile la anumite evenimente cu OpenCV. Asta ne permite să interacționăm cu imaginile respective."
   ]
  },
  {
   "attachments": {},
   "cell_type": "markdown",
   "metadata": {},
   "source": [
    "Indicat ar fi să rulăm acest script într-un script de Python pentru a nu avea probleme cu Jupyter Notebook încercând să afișeze o imagine utilizând librăria OpenCV. O să construim script-ul în Jupyter Notebook pas cu pas pentru a vedea ce anume face fiecare dintre acele părți din script. Pentru început trebuie să începem cu crearea unei imagini blank și afișarea acesteia utilizând librăria OpenCV"
   ]
  },
  {
   "cell_type": "code",
   "execution_count": null,
   "metadata": {},
   "outputs": [],
   "source": [
    "import numpy as np\n",
    "import cv2\n",
    "\n",
    "blank_image = np.zeros(shape=(512, 512, 3), dtype=np.int8)\n",
    "\n",
    "# Showing the image using OpenCV\n",
    "\n",
    "while True:\n",
    "    cv2.imshow('drawing', blank_image)\n",
    "\n",
    "    if cv2.waitKey(20) & 0xFF == 27:\n",
    "        break\n",
    "\n",
    "cv2.destroyAllWindows()"
   ]
  },
  {
   "attachments": {},
   "cell_type": "markdown",
   "metadata": {},
   "source": [
    "Ceea ce este în codul de mai sus nu este nimic nou, este doar cum putem să afișăm o imagine utilizând OpenCV și cum putem să facem ca acea imagine să fie prezentă până ce apăsăm tasta ESC de pe tastatură, abia atunci o să se închidă fereastra respectivă. La final, distrugem toate ferestrele create de către script."
   ]
  },
  {
   "attachments": {},
   "cell_type": "markdown",
   "metadata": {},
   "source": [
    "În continuare trebuie să conectăm o funcție cu imaginea care este afișată. Modul prin care este conectată este utilizând numele pe care l-am oferit acelei ferestre în momentul în care am afișat imaginea (din cv2.imshow('drawing', blank_image) o să ne folosim de acel 'drawing'). În continuare o să creem acea funcție pe care dorim să o conectăm la imagine. O să dorim să desenăm anumite cercuri atunci când apăsăm cu mouse-ul pe imagine, prin urmare o să definim funcția draw_circle()"
   ]
  },
  {
   "cell_type": "code",
   "execution_count": null,
   "metadata": {},
   "outputs": [],
   "source": [
    "def draw_circle():\n",
    "    pass"
   ]
  },
  {
   "attachments": {},
   "cell_type": "markdown",
   "metadata": {},
   "source": [
    "Funcția respectivă ia anumite argumente default, iar acestea sunt:\n",
    "\n",
    "1. event\n",
    "\n",
    "2. x, y\n",
    "\n",
    "3. flags\n",
    "\n",
    "4. param"
   ]
  },
  {
   "cell_type": "code",
   "execution_count": null,
   "metadata": {},
   "outputs": [],
   "source": [
    "def draw_circle(event, x, y, flags, param):\n",
    "    pass"
   ]
  },
  {
   "attachments": {},
   "cell_type": "markdown",
   "metadata": {},
   "source": [
    "Trebuie să conectăm această funcție la imaginea respectivă prin intermediul unui callback. Pentru asta trebuie să utilizăm două comenzi din OpenCV,"
   ]
  },
  {
   "cell_type": "code",
   "execution_count": null,
   "metadata": {},
   "outputs": [],
   "source": [
    "cv2.namedWindow(winname='drawing')\n",
    "cv2.setMouseCallback('drawing', draw_circle)"
   ]
  },
  {
   "attachments": {},
   "cell_type": "markdown",
   "metadata": {},
   "source": [
    "Prim metoda de mai sus se conectează un callback către imaginea care este afișată pe fereastră. O să trebuiască să îi atribuim acel windows pe care l-am creat la metoda cv2.namedWindow() după care trebuie să creem un Callback. Cel mai des întâlnit Callback este cel de cv2.setMouseCallback() căruia trebuie să îi oferim ca și valori din nou acea fereastră pe care am creat-o împreună cu funcția pe care dorim să o apelăm în imaginea respectivă (în cazul de față, funcția poartă denumirea de draw_circle). De notat faptul că funcția respectivă se va trece doar ca și argument, nu se va apela."
   ]
  },
  {
   "attachments": {},
   "cell_type": "markdown",
   "metadata": {},
   "source": [
    "Interacțiunea dintre imagine și funcția respectivă se va face prin acele argumente default pe care le are funcția respectivă, iar acestea sunt luate în considerare în mod automat atunci când setăm acel cv2.setMouseCallback(). x și y sunt luat automat în calcul de către OpenCV, se uită la ce poziție are mouse-ul pe imaginea respecivă, ce coordonate x și y are poziția mouseului. Argumentul de event reprezintă ceea ce a efectuat mouseul, a făcut un RIGHT_CLICK, un LEFT_CLICK, DOUBLE_CLICK?. Pentru cazul de față o să desenăm un cerc atunci când este apăsat click-ul stânga al mouseului. O să creem o condiție în cadrul metodei draw_circle(event, x, y, flags, param) prin care o să verificăm dacă s-a făcut click."
   ]
  },
  {
   "cell_type": "code",
   "execution_count": null,
   "metadata": {},
   "outputs": [],
   "source": [
    "def draw_circle(event, x, y, flags, param):\n",
    "\n",
    "    if event == cv2.EVENT_LBUTTONDOWN:\n",
    "        pass"
   ]
  },
  {
   "attachments": {},
   "cell_type": "markdown",
   "metadata": {},
   "source": [
    "cv2.EVENT_LBUTTONDOWN verifică dacă acel event care a fost realizat de către mouse este un Left Click. De reținut totuși faptul că există atât cv.EVENT_LBUTTONDOWN cât și cv2.EVENT_LBUTTONUP, care sunt două lucruri diferite. cv2.EVENT_LBUTTONDOWN face referire la momentul în care s-a apăsat click stânga, dar fără să se fi terminat de apăsat. Atunci când se ridică degetul de pe mouse, event-ul respectiv poartă denumirea de cv2.EVENT_LBUTTONUP. Aceste informații trebuie reținute doarece pe viitor o să ne folosim de ambele event-uri."
   ]
  },
  {
   "attachments": {},
   "cell_type": "markdown",
   "metadata": {},
   "source": [
    "Din moment ce am făcut acea verificare, atunci când apare event-ul cv2.EVENT_LBUTTONDOWN putem să realizăm anumite operații în cadrul acelei imagini. Operația pe care o să o apelăm este cea prin care desenăm un cerc folosind cv2.circle()"
   ]
  },
  {
   "cell_type": "code",
   "execution_count": null,
   "metadata": {},
   "outputs": [],
   "source": [
    "def draw_circle(event, x, y, flags, param):\n",
    "\n",
    "    if event == cv2.EVENT_LBUTTONDOWN:\n",
    "        cv2.circle(img=blank_image, center=(x, y), radius=40, color=(102,255, 255), thickness=-1)"
   ]
  },
  {
   "attachments": {},
   "cell_type": "markdown",
   "metadata": {},
   "source": [
    "Valorile din cv2.circle() sunt cele cunoscute, diferența este la center=(x, y) unde nu mai specificăm o poziție anume pentru centrul cercului, ci OpenCV o să ne preia poziția mouse-ului ca și centrul cercului respectiv. De asta avem nevoie ca să intacționăm cu o imagine folosind mouse-ul, iar prin interacțiunea aceasta putem să desenăm un cerc de fiecare dată când apăsăm click. Ca și o recapitulare pentru a face asta trebuie să afișăm imaginea cu OpenCV și să creem un callback către o funcție, funcție în care stabilim comportamentul în momentul în care se execută event-ul pe care îl verificăm. O să punem tot acest cod într-un Python script pe care o să îl rulăm pentru a vedea ce se întâmplă"
   ]
  },
  {
   "cell_type": "code",
   "execution_count": null,
   "metadata": {},
   "outputs": [],
   "source": [
    "import numpy as np\n",
    "import cv2\n",
    "\n",
    "blank_image = np.zeros(shape=(512, 512, 3), dtype=np.int8)\n",
    "\n",
    "def draw_circle(event, x, y, flags, param):\n",
    "    \n",
    "    if event == cv2.EVENT_LBUTTONDOWN:\n",
    "        cv2.circle(img=blank_image, center=(x, y), radius=40, color=(102, 255, 255), thickness=-1)\n",
    "    \n",
    "cv2.namedWindow(winname='drawing')\n",
    "cv2.setMouseCallback('drawing', draw_circle)\n",
    "\n",
    "while True:\n",
    "\n",
    "    cv2.imshow('drawing', blank_image)\n",
    "\n",
    "    if cv2.waitKey(20) & 0xFF == 27:\n",
    "        break\n",
    "\n",
    "cv2.destroyAllWindows()"
   ]
  },
  {
   "attachments": {},
   "cell_type": "markdown",
   "metadata": {},
   "source": [
    "Codul în script-ul de python arată așa. Să vedem ce se întâmplă atunic când îl rulăm."
   ]
  },
  {
   "attachments": {},
   "cell_type": "markdown",
   "metadata": {},
   "source": [
    "<img src='../SS/draw_01.png'>"
   ]
  },
  {
   "attachments": {},
   "cell_type": "markdown",
   "metadata": {},
   "source": [
    "Atunci când rulăm script-ul ne va apărea imaginea respectivă (are o culoare mai spre gri deoarece am folosit în momentul creeze imaginii dtype=np.int8, dacă folosim 16 sau 32 o să fie neagră imaginea). Atunci când apăsăm un click pe imaginea respecitvă un cerc cu culoarea aleasă și cu diamentrul de 40 de pixeli o să fie creat de către OpenCV."
   ]
  },
  {
   "attachments": {},
   "cell_type": "markdown",
   "metadata": {},
   "source": [
    "<img src='../SS/draw_02.png'>"
   ]
  },
  {
   "attachments": {},
   "cell_type": "markdown",
   "metadata": {},
   "source": [
    "Apăsând de mai multe ori o să se creeze mai multe cercuri. Imaginea o să dispară doar atunci când apăsăm tasta ESC pe tastatură."
   ]
  },
  {
   "attachments": {},
   "cell_type": "markdown",
   "metadata": {},
   "source": [
    "## Recapitulare"
   ]
  },
  {
   "attachments": {},
   "cell_type": "markdown",
   "metadata": {},
   "source": [
    "În cadrul acestei lecții am învățat:\n",
    "\n",
    "    1. Am recapitulat cum putem să afișăm o imagine utilizând librăria OpenCV\n",
    "\n",
    "        import numpy as np\n",
    "\n",
    "        import cv2\n",
    "\n",
    "        blank_image = np.zeros(shape=(512, 512, 3), dtype=np.int8)\n",
    "\n",
    "        while True:\n",
    "\n",
    "            cv2.imshow('drawing', blank_image)\n",
    "\n",
    "            if cv2.waitKey(20) & 0xFF == 27:\n",
    "\n",
    "                break\n",
    "\n",
    "        cv2.destroyAllWindows()\n",
    "\n",
    "    2. Cum putem să creem o interacțiune între o image și mouse utilizând Callbacks\n",
    "\n",
    "        2.1 Trebuie să creem o funcție unde stabilim comportamentul în funcție de event\n",
    "\n",
    "            def draw_circle(event, x, y, flags, param):\n",
    "\n",
    "                if event == cv2.EVENT_LBUTTONDOWN:\n",
    "\n",
    "                    cv2.circle(img=blank_image, center=(x, y), radius=40, color=(0, 255, 0), thickness=-1)\n",
    "                \n",
    "        2.2 Trebuie să îi stabilim un nume acelui window care o să ne afișeze imaginea. Trebuie să fie la fel cu valoarea din metoda cv2.imshow()\n",
    "\n",
    "            cv2.namedWindow('drawing')\n",
    "\n",
    "        2.3 Trebuie să conectăm acel window printr-un callback către imaginea respectivă\n",
    "\n",
    "            cv.setMouseCallback('drawing', draw_circle)"
   ]
  },
  {
   "cell_type": "markdown",
   "metadata": {},
   "source": []
  }
 ],
 "metadata": {
  "language_info": {
   "name": "python"
  },
  "orig_nbformat": 4
 },
 "nbformat": 4,
 "nbformat_minor": 2
}
