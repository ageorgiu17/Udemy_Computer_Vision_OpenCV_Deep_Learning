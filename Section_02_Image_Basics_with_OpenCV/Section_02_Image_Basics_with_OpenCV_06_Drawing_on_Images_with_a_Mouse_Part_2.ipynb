{
 "cells": [
  {
   "attachments": {},
   "cell_type": "markdown",
   "metadata": {},
   "source": [
    "# Draw on images with a mouse - Part 2"
   ]
  },
  {
   "attachments": {},
   "cell_type": "markdown",
   "metadata": {},
   "source": [
    "În partea precedentă am învățat cum să desenăm pe o imagine la un anumit event care apare pe imaginea respecitvă. Să recapitulăm acestea"
   ]
  },
  {
   "cell_type": "code",
   "execution_count": null,
   "metadata": {},
   "outputs": [],
   "source": [
    "import numpy as np\n",
    "import cv2\n",
    "\n",
    "# creating a blank image\n",
    "blank_image = np.zeros(shape=(512, 512, 3), dtype=np.int8)\n",
    "\n",
    "# creating the function that draws on the image\n",
    "def draw_circle(event, x, y, flags, param):\n",
    "\n",
    "    if event == cv2.EVENT_LBUTTONDOWN:\n",
    "\n",
    "        cv2.circle(img=blank_image, center=(x, y), radius=40, color=(0, 255, 0), thickness=-1)\n",
    "    \n",
    "cv2.namedWindow('drawing')\n",
    "cv2.setMouseCallback('drawing', draw_circle)\n",
    "\n",
    "while True:\n",
    "\n",
    "    cv2.imshow('drawing', blank_image)\n",
    "\n",
    "    if cv2.waitKey(20) & 0xFF == 27:\n",
    "        break\n",
    "\n",
    "cv2.destroyAllWindows()"
   ]
  },
  {
   "attachments": {},
   "cell_type": "markdown",
   "metadata": {},
   "source": [
    "Codul de mai sus creează câte un cerc verde cu dimensiunea de 40 de pixeli pe imagine atunci când apăsăm click stânga. De foarte multe ori atunci când interacționăm cu o anumită imagine poate este nevoie să avem comportamente diferite pentru event-uri diferite. Pentru astfel de situații putem să avem mai multe clauze if în cadrul acelei funcții care se ocupă cu partea de desenat de cercuri. O să mai creem o condiție astfel atunci când se apasă click dreapta acuma să se deseneze un cerc care să fie de culoare roșie (de reținut faptul că OpenCV folosește ca și channels ordinea Blue-Green-Red)"
   ]
  },
  {
   "cell_type": "code",
   "execution_count": null,
   "metadata": {},
   "outputs": [],
   "source": [
    "def draw_circle(event, x, y, flags, param):\n",
    "\n",
    "    if event == cv2.EVENT_LBUTTONDOWN:\n",
    "\n",
    "        cv2.circle(img=blank_image, center=(x, y), radiu=40, color=(0, 255, 255), thickness=-1)\n",
    "    \n",
    "    elif event == cv2.EVENT_RBUTTONDOWN:\n",
    "\n",
    "        cv2.circle(img=blank_image, center=(x, y), radius=40, color=(0, 0, 255), thickness=-1)\n"
   ]
  },
  {
   "attachments": {},
   "cell_type": "markdown",
   "metadata": {},
   "source": [
    "Tot ce trebuie să modificăm în cadrul acestui script este funcția draw_circle() căreia o să îi mai adăugăm încă o condiție în care o să verificăm dacă apare event-ul de cv2.EVENT_RBUTTONDOWN, iar dacă acest event apare, atunci o să desenăm un cerc roșu. În final, codul o să arate așa:"
   ]
  },
  {
   "cell_type": "code",
   "execution_count": null,
   "metadata": {},
   "outputs": [],
   "source": [
    "import numpy as np\n",
    "import cv2\n",
    "\n",
    "blank_image = np.zeros(shape=(512, 512, 3), dtype=np.int8)\n",
    "\n",
    "\n",
    "def draw_circle(event, x, y, flags, param):\n",
    "    if event == cv2.EVENT_LBUTTONDOWN:\n",
    "        cv2.circle(\n",
    "            img=blank_image, center=(x, y), radius=40, color=(0, 255, 0), thickness=-1\n",
    "        )\n",
    "    elif event == cv2.EVENT_RBUTTONDOWN:\n",
    "        cv2.circle(\n",
    "            img=blank_image, center=(x, y), radius=40, color=(0, 0, 255), thickness=-1\n",
    "        )\n",
    "\n",
    "\n",
    "cv2.namedWindow(winname=\"drawing2\")\n",
    "cv2.setMouseCallback(\"drawing2\", draw_circle)\n",
    "\n",
    "while True:\n",
    "    cv2.imshow(\"drawing2\", blank_image)\n",
    "    if cv2.waitKey(20) & 0xFF == 27:\n",
    "        break\n",
    "\n",
    "cv2.destroyAllWindows()"
   ]
  },
  {
   "attachments": {},
   "cell_type": "markdown",
   "metadata": {},
   "source": [
    "<img src='../SS/draw_03.png'>"
   ]
  },
  {
   "attachments": {},
   "cell_type": "markdown",
   "metadata": {},
   "source": [
    "Atunci când rulăm acest cod și apăsăm click dreapta o să se creeze un cerc de culoare roșie, iar atunci când apăsăm click stânga o să apară un cerc verde. Prin adăugarea de mai multe clauze if prin care verificăm mai multe event-uri putem să avem câte un comportament diferit pentru fiecare event în parte."
   ]
  },
  {
   "attachments": {},
   "cell_type": "markdown",
   "metadata": {},
   "source": [
    "## Recapitulare"
   ]
  },
  {
   "attachments": {},
   "cell_type": "markdown",
   "metadata": {},
   "source": [
    "În cadrul acestei secțiuni am învățat următoarele:\n",
    "\n",
    "    1. Cum putem să avem câte un comportament diferit pentru un event separat (pentru asta o să avem mai multe clauze if care o să se ocupe de un event în parte)\n",
    "\n",
    "    def draw_circle(event, x, y, flags, param):\n",
    "\n",
    "        if event == cv2.EVENT_LBUTTONDOWN:\n",
    "\n",
    "            cv2.circle(\n",
    "                \n",
    "                img=blank_image, center=(x, y), radius=40, color=(0, 255, 0), thickness=-1\n",
    "\n",
    "            )\n",
    "        elif event == cv2.EVENT_RBUTTONDOWN:\n",
    "\n",
    "            cv2.circle(\n",
    "\n",
    "                img=blank_image, center=(x, y), radius=40, color=(0, 0, 255), thickness=-1\n",
    "\n",
    "            )\n"
   ]
  },
  {
   "cell_type": "markdown",
   "metadata": {},
   "source": []
  }
 ],
 "metadata": {
  "kernelspec": {
   "display_name": "venv",
   "language": "python",
   "name": "python3"
  },
  "language_info": {
   "name": "python",
   "version": "3.9.12"
  },
  "orig_nbformat": 4
 },
 "nbformat": 4,
 "nbformat_minor": 2
}
