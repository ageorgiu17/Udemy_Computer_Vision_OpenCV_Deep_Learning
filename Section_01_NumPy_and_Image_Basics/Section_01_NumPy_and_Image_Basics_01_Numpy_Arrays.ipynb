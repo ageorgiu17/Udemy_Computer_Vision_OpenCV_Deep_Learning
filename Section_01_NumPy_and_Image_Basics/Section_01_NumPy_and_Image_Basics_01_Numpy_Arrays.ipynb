{
 "cells": [
  {
   "cell_type": "markdown",
   "metadata": {},
   "source": [
    "# Numpy Arrays"
   ]
  },
  {
   "attachments": {},
   "cell_type": "markdown",
   "metadata": {},
   "source": [
    "În momentul în care dorim să procesăm anumite imagini folosind Python, aceste imagini o să fie cicite ca și formă de array. Din acest motiv o să începem cu anumite opreații care cu arrays pentru a ne obișnui cu acest set de date."
   ]
  },
  {
   "cell_type": "code",
   "execution_count": 2,
   "metadata": {},
   "outputs": [],
   "source": [
    "import numpy as np"
   ]
  },
  {
   "attachments": {},
   "cell_type": "markdown",
   "metadata": {},
   "source": [
    "Putem să creem ușor un array folosind librăria NumPy. Atunci când o să citim o imagine, acel array o să ne fie creat automat, dar există și opțiunea de a crea de la 0 un array. O să începem prin a crea un array dintr-o listă din Python."
   ]
  },
  {
   "cell_type": "code",
   "execution_count": 3,
   "metadata": {},
   "outputs": [],
   "source": [
    "my_list = [1, 2, 3]"
   ]
  },
  {
   "attachments": {},
   "cell_type": "markdown",
   "metadata": {},
   "source": [
    "Pentru a crea un array dintr-o listă trebuie să îi pasă acea listă ca și argument la np.array()"
   ]
  },
  {
   "cell_type": "code",
   "execution_count": 4,
   "metadata": {},
   "outputs": [
    {
     "data": {
      "text/plain": [
       "array([1, 2, 3])"
      ]
     },
     "execution_count": 4,
     "metadata": {},
     "output_type": "execute_result"
    }
   ],
   "source": [
    "np.array(my_list)"
   ]
  },
  {
   "attachments": {},
   "cell_type": "markdown",
   "metadata": {},
   "source": [
    "Ceea ce este interesant la acest tip de date (numpy.ndarray) este faptul că acestea pot să existe și în mai multe dimensiuni. Pentru a ne crea un array în mai multe dimensiuni o să ne folosim de metoda np.zeros(). Această metodă ne creează un array de valori 0 și trebuie să îi oferim ca și input shape-ul pe care dorim să îl aibă acest array. Această valoare se va oferi ca și o tuplă. Dacă dorim să creem un array care să aibă 5 rânduri și 3 coloane, atunci o să îi oferim ca și argument valoarea shape=(5, 3)"
   ]
  },
  {
   "cell_type": "code",
   "execution_count": 6,
   "metadata": {},
   "outputs": [
    {
     "data": {
      "text/plain": [
       "array([[0., 0., 0.],\n",
       "       [0., 0., 0.],\n",
       "       [0., 0., 0.],\n",
       "       [0., 0., 0.],\n",
       "       [0., 0., 0.]])"
      ]
     },
     "execution_count": 6,
     "metadata": {},
     "output_type": "execute_result"
    }
   ],
   "source": [
    "np.zeros(shape=(5, 3))"
   ]
  },
  {
   "attachments": {},
   "cell_type": "markdown",
   "metadata": {},
   "source": [
    "Numpy are și posibilitatea de a crea un array cu valori random cuprinse între anumite valori. Metoda respectivă poartă denumirea de np.random.randint(). Ca și argumente ia trei valori, prima reprezintă valoarea de la care să înceapă, a doua reprezintă valoarea la care să se oprească, iar cea de a treia reprezintă numărul de valori pe care să îl returneze la întâmplare. Algoritmul de generare de numere random ne permite și să setăm un seed prin comanda np.random.seed(), dar trebuie să fie rulate în același cell pentru a funcționa."
   ]
  },
  {
   "cell_type": "code",
   "execution_count": 11,
   "metadata": {},
   "outputs": [
    {
     "data": {
      "text/plain": [
       "array([95, 11, 81, 70, 63, 87, 75,  9, 77, 40])"
      ]
     },
     "execution_count": 11,
     "metadata": {},
     "output_type": "execute_result"
    }
   ],
   "source": [
    "np.random.seed(101)\n",
    "arr = np.random.randint(0, 100, 10)\n",
    "arr"
   ]
  },
  {
   "cell_type": "code",
   "execution_count": 12,
   "metadata": {},
   "outputs": [
    {
     "data": {
      "text/plain": [
       "array([ 4, 63, 40, 60, 92, 64,  5, 12, 93, 40])"
      ]
     },
     "execution_count": 12,
     "metadata": {},
     "output_type": "execute_result"
    }
   ],
   "source": [
    "arr2 = np.random.randint(0, 100, 10)\n",
    "arr2"
   ]
  },
  {
   "attachments": {},
   "cell_type": "markdown",
   "metadata": {},
   "source": [
    "În cadrul acestor arrays putem să realizăm anumite operații aritmetice prin care să extragem valoarea cea mai mare sau cea mai mică din acest array sau index-ul pe care se găsește acea valoare. De asemenea se pot realiza și operații prin care să îmi aggregeze suma tututor valorilor sau să îmi ne returneze valoarea medie a acestui array."
   ]
  },
  {
   "cell_type": "code",
   "execution_count": 14,
   "metadata": {},
   "outputs": [
    {
     "name": "stdout",
     "output_type": "stream",
     "text": [
      "95\n",
      "0\n",
      "9\n",
      "7\n",
      "608\n",
      "60.8\n"
     ]
    }
   ],
   "source": [
    "print(arr.max())  # valoarea cea mai mare\n",
    "print(arr.argmax())  # index-ul pe care se găsește valoarea cea mai mare\n",
    "\n",
    "print(arr.min())  # valoarea cea mai mică\n",
    "print(arr.argmin())  # index-ul pe care se găsește valoarea cea mai mică\n",
    "\n",
    "print(arr.sum())  # suma tuturor valorilor din array\n",
    "print(arr.mean())  # media tuturor valorilor din array "
   ]
  },
  {
   "attachments": {},
   "cell_type": "markdown",
   "metadata": {},
   "source": [
    "Un alt aspect important al acestor arrays este faptul că putem să facem un reshape la acest array. De exemplu, variabila 'arr' este un array care conține 10 elemente pe un singur rând, iar acest array putem să îl schimbăm (să îi facem reshape) la un array care are 10 elemente, dar sunt distribuite altfel, pe 2 rânduri și 5 coloane. Atributul 'shape' de la un numpy.ndarray ne retunrează ce shape are acel array. După ce îi face reshape (utilizând metoda 'reshape') putem să verificăm din nou shape-ul pe care îl are acel array."
   ]
  },
  {
   "cell_type": "code",
   "execution_count": 16,
   "metadata": {},
   "outputs": [
    {
     "data": {
      "text/plain": [
       "(10,)"
      ]
     },
     "execution_count": 16,
     "metadata": {},
     "output_type": "execute_result"
    }
   ],
   "source": [
    "arr.shape"
   ]
  },
  {
   "cell_type": "code",
   "execution_count": 17,
   "metadata": {},
   "outputs": [
    {
     "data": {
      "text/plain": [
       "array([[95, 11, 81, 70, 63],\n",
       "       [87, 75,  9, 77, 40]])"
      ]
     },
     "execution_count": 17,
     "metadata": {},
     "output_type": "execute_result"
    }
   ],
   "source": [
    "arr.reshape(2, 5)"
   ]
  },
  {
   "cell_type": "code",
   "execution_count": 18,
   "metadata": {},
   "outputs": [
    {
     "data": {
      "text/plain": [
       "(2, 5)"
      ]
     },
     "execution_count": 18,
     "metadata": {},
     "output_type": "execute_result"
    }
   ],
   "source": [
    "reshaped_arr = arr.reshape(2, 5)\n",
    "reshaped_arr.shape"
   ]
  },
  {
   "attachments": {},
   "cell_type": "markdown",
   "metadata": {},
   "source": [
    "Putem să facem reshape doar dacă numărul de elemente permite să se creeze un nou array pentru noul shape. De exemplu un array de 10 elemente poate să i se facă reshape într-un array cu 2 rânduri și 5 coloane (reshape(2, 5)), dar nu putem să îi facem reshape la un array de 3 rânduri și 5 coloane deoarece în total ar însemna să aibă 15 elemente, dar array-ul nostru are doar 10. Dacă facem asta atunci NumPy ne returnează o eroare prin care ne specifică asta."
   ]
  },
  {
   "cell_type": "code",
   "execution_count": 19,
   "metadata": {},
   "outputs": [
    {
     "ename": "ValueError",
     "evalue": "cannot reshape array of size 10 into shape (3,5)",
     "output_type": "error",
     "traceback": [
      "\u001b[0;31m---------------------------------------------------------------------------\u001b[0m",
      "\u001b[0;31mValueError\u001b[0m                                Traceback (most recent call last)",
      "Cell \u001b[0;32mIn[19], line 1\u001b[0m\n\u001b[0;32m----> 1\u001b[0m arr\u001b[39m.\u001b[39;49mreshape(\u001b[39m3\u001b[39;49m, \u001b[39m5\u001b[39;49m)\n",
      "\u001b[0;31mValueError\u001b[0m: cannot reshape array of size 10 into shape (3,5)"
     ]
    }
   ],
   "source": [
    "arr.reshape(3, 5)"
   ]
  },
  {
   "attachments": {},
   "cell_type": "markdown",
   "metadata": {},
   "source": [
    "O parte importantă din array-urile din numpy este partea de indexare prin care putem să extragem doar anumite valori dintr-un array. Pentru asta o să ne creem o matrice dintr-un array, O să creem un array de 100 de elemente utilizând metoda np.arange() iar după o să îi facem un reshape la acest array prin care să ne creem un array de 10 rânduri și 10 coloane."
   ]
  },
  {
   "cell_type": "code",
   "execution_count": 20,
   "metadata": {},
   "outputs": [
    {
     "data": {
      "text/plain": [
       "array([[ 0,  1,  2,  3,  4,  5,  6,  7,  8,  9],\n",
       "       [10, 11, 12, 13, 14, 15, 16, 17, 18, 19],\n",
       "       [20, 21, 22, 23, 24, 25, 26, 27, 28, 29],\n",
       "       [30, 31, 32, 33, 34, 35, 36, 37, 38, 39],\n",
       "       [40, 41, 42, 43, 44, 45, 46, 47, 48, 49],\n",
       "       [50, 51, 52, 53, 54, 55, 56, 57, 58, 59],\n",
       "       [60, 61, 62, 63, 64, 65, 66, 67, 68, 69],\n",
       "       [70, 71, 72, 73, 74, 75, 76, 77, 78, 79],\n",
       "       [80, 81, 82, 83, 84, 85, 86, 87, 88, 89],\n",
       "       [90, 91, 92, 93, 94, 95, 96, 97, 98, 99]])"
      ]
     },
     "execution_count": 20,
     "metadata": {},
     "output_type": "execute_result"
    }
   ],
   "source": [
    "matrix = np.arange(0, 100).reshape(10, 10)\n",
    "matrix"
   ]
  },
  {
   "attachments": {},
   "cell_type": "markdown",
   "metadata": {},
   "source": [
    "Cu partea de indexare putem să preluăm anumite valori aflate pe un anumit rând și pe o anumită coloană. O să luăm exemplul în care o să vrem să preluăm elementul aflat pe rândul cu index-ul 2 și coloana cu index-ul 4 (adică numărul 24). Pentru început o să ne creem două variabile care o să rețină valorile acelo indici"
   ]
  },
  {
   "cell_type": "code",
   "execution_count": 23,
   "metadata": {},
   "outputs": [],
   "source": [
    "row = 2\n",
    "col = 4"
   ]
  },
  {
   "attachments": {},
   "cell_type": "markdown",
   "metadata": {},
   "source": [
    "Pentru indexare o să folosim paranteze pătrate unde specificăm rândul și coloane de pe care dorim să preluăm acel element. Prima dată se trece rândul, iar după coloana"
   ]
  },
  {
   "cell_type": "code",
   "execution_count": 24,
   "metadata": {},
   "outputs": [
    {
     "data": {
      "text/plain": [
       "24"
      ]
     },
     "execution_count": 24,
     "metadata": {},
     "output_type": "execute_result"
    }
   ],
   "source": [
    "matrix[row, col]"
   ]
  },
  {
   "attachments": {},
   "cell_type": "markdown",
   "metadata": {},
   "source": [
    "Prin acest fel am reușit să preluăm numărul 24 care se găsește pe rândul cu index-ul 2 și coloana cu index-ul 4. În loc să creem acele variabile putem să trecem direct index-ul pe care dorim să îl accesăm"
   ]
  },
  {
   "cell_type": "code",
   "execution_count": 25,
   "metadata": {},
   "outputs": [
    {
     "data": {
      "text/plain": [
       "46"
      ]
     },
     "execution_count": 25,
     "metadata": {},
     "output_type": "execute_result"
    }
   ],
   "source": [
    "matrix[4, 6]"
   ]
  },
  {
   "attachments": {},
   "cell_type": "markdown",
   "metadata": {},
   "source": [
    "Ca să alegem mai multe valori de pe un rând sau de pe o coloană, atuci o să utilizăm partea de slicing. Să extragem toate valorile care sunt pe rândul cu index-ul 3. Pentru asta o să specificăm că dorim elementele de index-ul 3 pentru rânduri, iar pentru coloane o să utilizăm slicing, ca și la liste."
   ]
  },
  {
   "cell_type": "code",
   "execution_count": 26,
   "metadata": {},
   "outputs": [
    {
     "data": {
      "text/plain": [
       "array([30, 31, 32, 33, 34, 35, 36, 37, 38, 39])"
      ]
     },
     "execution_count": 26,
     "metadata": {},
     "output_type": "execute_result"
    }
   ],
   "source": [
    "matrix[3, :]"
   ]
  },
  {
   "cell_type": "markdown",
   "metadata": {},
   "source": [
    "Acel semn : specifică că dorim să afișăm toate valorile, de la primul la ultimul element. Dacă dorim să extragem doar primele 3 valori de pe acel rând o să mergem doar până la index-ul 3 (care nu este inclus)"
   ]
  },
  {
   "cell_type": "code",
   "execution_count": 27,
   "metadata": {},
   "outputs": [
    {
     "data": {
      "text/plain": [
       "array([30, 31, 32])"
      ]
     },
     "execution_count": 27,
     "metadata": {},
     "output_type": "execute_result"
    }
   ],
   "source": [
    "matrix[3, :3]"
   ]
  },
  {
   "cell_type": "markdown",
   "metadata": {},
   "source": [
    "Prin acest mod se procedează și atuni când dorim să extragem un număr de elemente dintr-o anumită coloană. Sau dacă dorim să extragem un număr de rânduri de pe un număr de coloane"
   ]
  },
  {
   "cell_type": "code",
   "execution_count": 29,
   "metadata": {},
   "outputs": [
    {
     "data": {
      "text/plain": [
       "array([ 2, 12, 22, 32, 42, 52, 62, 72, 82, 92])"
      ]
     },
     "execution_count": 29,
     "metadata": {},
     "output_type": "execute_result"
    }
   ],
   "source": [
    "matrix[:, 2]"
   ]
  },
  {
   "cell_type": "code",
   "execution_count": 30,
   "metadata": {},
   "outputs": [
    {
     "data": {
      "text/plain": [
       "array([ 2, 12, 22, 32, 42])"
      ]
     },
     "execution_count": 30,
     "metadata": {},
     "output_type": "execute_result"
    }
   ],
   "source": [
    "matrix[:5, 2]"
   ]
  },
  {
   "cell_type": "code",
   "execution_count": 31,
   "metadata": {},
   "outputs": [
    {
     "data": {
      "text/plain": [
       "array([35, 45, 55, 65, 75, 85, 95])"
      ]
     },
     "execution_count": 31,
     "metadata": {},
     "output_type": "execute_result"
    }
   ],
   "source": [
    "matrix[3:, 5]"
   ]
  },
  {
   "cell_type": "code",
   "execution_count": 32,
   "metadata": {},
   "outputs": [
    {
     "data": {
      "text/plain": [
       "array([[24, 25, 26],\n",
       "       [34, 35, 36],\n",
       "       [44, 45, 46]])"
      ]
     },
     "execution_count": 32,
     "metadata": {},
     "output_type": "execute_result"
    }
   ],
   "source": [
    "matrix[2:5, 4:7]"
   ]
  },
  {
   "attachments": {},
   "cell_type": "markdown",
   "metadata": {},
   "source": [
    "Acest tip de slicing o să îl folosim în situația în care dorim să modificăm valoarea mai multor elemente din array în același timp. De exemplu, pentru bucata din matrice pe care am preluat-o mai sus (matrix[2:5, 4:7]), acestei bucăți putem să îi atribuim o valoare, iar fiecare element din acea bucată o să aibă nou valoare"
   ]
  },
  {
   "cell_type": "code",
   "execution_count": 33,
   "metadata": {},
   "outputs": [],
   "source": [
    "matrix[2:5, 4:7] = 0"
   ]
  },
  {
   "attachments": {},
   "cell_type": "markdown",
   "metadata": {},
   "source": [
    "Dacă vizualizăm acuma matricea o să vedem că o secțiune din aceasta o să aibă valoarea 0, această secțiune este reprezentată de acea secțiune extrasă utilizând slicing."
   ]
  },
  {
   "cell_type": "code",
   "execution_count": 34,
   "metadata": {},
   "outputs": [
    {
     "data": {
      "text/plain": [
       "array([[ 0,  1,  2,  3,  4,  5,  6,  7,  8,  9],\n",
       "       [10, 11, 12, 13, 14, 15, 16, 17, 18, 19],\n",
       "       [20, 21, 22, 23,  0,  0,  0, 27, 28, 29],\n",
       "       [30, 31, 32, 33,  0,  0,  0, 37, 38, 39],\n",
       "       [40, 41, 42, 43,  0,  0,  0, 47, 48, 49],\n",
       "       [50, 51, 52, 53, 54, 55, 56, 57, 58, 59],\n",
       "       [60, 61, 62, 63, 64, 65, 66, 67, 68, 69],\n",
       "       [70, 71, 72, 73, 74, 75, 76, 77, 78, 79],\n",
       "       [80, 81, 82, 83, 84, 85, 86, 87, 88, 89],\n",
       "       [90, 91, 92, 93, 94, 95, 96, 97, 98, 99]])"
      ]
     },
     "execution_count": 34,
     "metadata": {},
     "output_type": "execute_result"
    }
   ],
   "source": [
    "matrix"
   ]
  },
  {
   "attachments": {},
   "cell_type": "markdown",
   "metadata": {},
   "source": [
    "Dacă dorim să facem ceva experimente cu anumite valori și nu am vrea să modificăm valoarea matricei originale, atunci putem să creem o copie a aceste matrice. Pentru asta o să ne folosim de metoda .copy() pe care o apelăm asupra matricei pentru care dorim să facem o copie."
   ]
  },
  {
   "cell_type": "code",
   "execution_count": 35,
   "metadata": {},
   "outputs": [],
   "source": [
    "matrix_copy = matrix.copy()"
   ]
  },
  {
   "cell_type": "code",
   "execution_count": 36,
   "metadata": {},
   "outputs": [
    {
     "data": {
      "text/plain": [
       "array([[ 0,  1,  2,  3,  4,  5,  6,  7,  8,  9],\n",
       "       [10, 11, 12, 13, 14, 15, 16, 17, 18, 19],\n",
       "       [20, 21, 22, 23,  0,  0,  0, 27, 28, 29],\n",
       "       [30, 31, 32, 33,  0,  0,  0, 37, 38, 39],\n",
       "       [40, 41, 42, 43,  0,  0,  0, 47, 48, 49],\n",
       "       [50, 51, 52, 53, 54, 55, 56, 57, 58, 59],\n",
       "       [60, 61, 62, 63, 64, 65, 66, 67, 68, 69],\n",
       "       [70, 71, 72, 73, 74, 75, 76, 77, 78, 79],\n",
       "       [80, 81, 82, 83, 84, 85, 86, 87, 88, 89],\n",
       "       [90, 91, 92, 93, 94, 95, 96, 97, 98, 99]])"
      ]
     },
     "execution_count": 36,
     "metadata": {},
     "output_type": "execute_result"
    }
   ],
   "source": [
    "matrix_copy"
   ]
  },
  {
   "cell_type": "markdown",
   "metadata": {},
   "source": [
    "## Recapitulare"
   ]
  },
  {
   "attachments": {},
   "cell_type": "markdown",
   "metadata": {},
   "source": [
    "În cadrul acestui tutorial am învățat următoarele:\n",
    "\n",
    "    1.  Cum să creem un numpy.ndarray dintr-o listă din Python\n",
    "\n",
    "        import numpy as np\n",
    "\n",
    "        my_list = [1, 2, 3]\n",
    "\n",
    "        arr = np.array(my_list)\n",
    "\n",
    "    2.  Cum să creem un array multidimensional (folosind doar valori de zero)\n",
    "\n",
    "        np.zeros(shape=(2,5))\n",
    "\n",
    "        # Codul de mai sus creează un array de 2 rânduri și 5 coloane\n",
    "\n",
    "    3. Cum să creem un array de elemente cu valori random\n",
    "\n",
    "        np.random.randint(0, 100, 10)\n",
    "\n",
    "        # Codul de mai sus creează un array de 10 elemente cu valori alese la întâmplare între 0 și 100\n",
    "\n",
    "    4. Cum să setăm un seed pentru algoritmul de random\n",
    "\n",
    "        np.random.seed(101)\n",
    "\n",
    "        np.random.randint(0, 100, 10)\n",
    "\n",
    "    5. Array-urile au anumite metode aritmetice pe care le putem apela\n",
    "\n",
    "        arr = np.random.randint(, 100,10)\n",
    "\n",
    "        arr.nax()  # returnează valoarea cea mai mare din array\n",
    "\n",
    "        arr.argmax()  # returnează index-ul pe care se găsește valoarea cea mai mare\n",
    "\n",
    "        arr.min()  # returnează valoarea cea mai mică din array\n",
    "\n",
    "        arr.argmin()  # returnează index-ul pe care se găsește valoarea cea mai mică\n",
    "\n",
    "        arr.sum()  # retunrează suma valorilor din array\n",
    "\n",
    "        arr.mean()  # returnează media valorilor din array\n",
    "\n",
    "    6. Putem să facem reshape la un array\n",
    "\n",
    "        arr.reshape(5, 2)\n",
    "\n",
    "            # Un array de 10 elemente i-am făcut reshape la un array care are tot 10 elemente, dar structurat pe 5 rânduri și două coloane\n",
    "\n",
    "    7. Cum putem  să preluăm anumite valori dintr-un array utilizând indexare și slicing\n",
    "\n",
    "        matrix = np.arange(0, 100).reshape(10, 10)\n",
    "\n",
    "        matrix[row, col] # preluăm valoarea de pe rândul de pe index-ul care este stocat în variabila 'row' și de pe coloana cu index-ul care este stocat în variabila 'col'\n",
    "\n",
    "        matrix[2, 3] # preluăm elementul aflat pe rândul cu index-ul 2 și coloana cu index-ul 3\n",
    "\n",
    "        matrix[3, :] # preluăm toate elementele de pe rândul cu index-ul 3, iar prin slicing spunem că dorim să preluăm toate coloanele\n",
    "\n",
    "        matrix[:, 3] # toate elementele de pe toate rândurile care se găsesc pe coloana cu index-ul 3\n",
    "\n",
    "        matrix[1:5, 3:9] # slicing atât la rânduri cât și la coloane\n",
    "\n",
    "    8. Partea de slicing o putem folosi pentru a face o reatribuire la valorile pe care le-am preluat\n",
    "\n",
    "        matrix[1:5, 3:9] = 0  # la toate valorile cuprinse în acea matrice preluată o să le atribuim valoarea 0\n",
    "\n",
    "    9. Cum să facem o copie după un array\n",
    "\n",
    "        copy_matrix = matrix.copy()"
   ]
  },
  {
   "cell_type": "markdown",
   "metadata": {},
   "source": []
  }
 ],
 "metadata": {
  "kernelspec": {
   "display_name": "venv",
   "language": "python",
   "name": "python3"
  },
  "language_info": {
   "codemirror_mode": {
    "name": "ipython",
    "version": 3
   },
   "file_extension": ".py",
   "mimetype": "text/x-python",
   "name": "python",
   "nbconvert_exporter": "python",
   "pygments_lexer": "ipython3",
   "version": "3.9.12"
  },
  "orig_nbformat": 4
 },
 "nbformat": 4,
 "nbformat_minor": 2
}
