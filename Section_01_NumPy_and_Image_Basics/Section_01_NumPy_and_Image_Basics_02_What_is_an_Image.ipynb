{
 "cells": [
  {
   "cell_type": "markdown",
   "metadata": {},
   "source": [
    "# What is an Image?"
   ]
  },
  {
   "attachments": {},
   "cell_type": "markdown",
   "metadata": {},
   "source": [
    "Înainte de a vedea cum anume putem utiliza NumPy pentru imagini, trebuie să înțelegem cum calculatoarele percep imagini. De cele mai multe ori imaginile sunt stocate sub formă de png sau jpeg. Trebuie să înțelegem cum anume calculatoarele reprezintă imaginile sub formă de date. Să luăm un exemplu în care avem anumite cifre scrise de mână și trebuie să le reprezentăm pe un calculator. Imaginile respective pot să fie reprezentate sub formă de array."
   ]
  },
  {
   "attachments": {},
   "cell_type": "markdown",
   "metadata": {},
   "source": [
    "<img src='../SS/hand_digits.png'>"
   ]
  },
  {
   "attachments": {},
   "cell_type": "markdown",
   "metadata": {},
   "source": [
    "Avem numerele de mai sus. Acestea pot să fie reprezentate ca și date de către calculator sub formă de array-uri. O să luăm exemplul în care o să avem o imagine de 28 pixels x 28 pixels. Fiecare pixel din a cea imagine poate fi reprezentat ca și o valoare dintr-un array. Din moment ce avem o imagine de 28 pe 28 pixels, o să avem un array bi-dimensional tot de 28 pe 28, unde fiecare valoare din array corespunde cu un pixel al imaginii"
   ]
  },
  {
   "attachments": {},
   "cell_type": "markdown",
   "metadata": {},
   "source": [
    "Ce date o să fie stocate în array? Din moment ce calculatoarele percep numere cel mai bine, datele din array pentru a reprezenta o imagine o să fie numere. În exemplul acesta avem o imagine alb-negru. Valorile din array o să reprezinte intensitatea pixelului în nunațe de gri (o imagine alb-negru reprezintă nuanțe de gri). În exemplu pe care o să îl avem, valorile sunt cuprinse între 0 și 1, unde 0 reprezintă alb, iar 1 reprezintă negru, iar ceea ce se găsește între 0 și 1 sunt nunațe de gri. Prin urmare o imagine alb-negru o să fie reprezentată astfel:"
   ]
  },
  {
   "attachments": {},
   "cell_type": "markdown",
   "metadata": {},
   "source": [
    "<img src='../SS/digit_01.png'>"
   ]
  },
  {
   "attachments": {},
   "cell_type": "markdown",
   "metadata": {},
   "source": [
    "Din imaginea de mai sus putem vedea cum este reprezentată o imagine alb-negru ce conține cifra 1 ca și un array de date. Zonele care sunt mai întunecate sunt au valoarea 1, iar ceea ce se găsește cu nuanțe de gri au valori cuprinse între 0 și 1. Ceea ce este complet alb reprezintă valoarea 0. Cu cât o imagine are o rezoluție mai mare cu atât și dimensiunea array-ului este mai mare și calitatea imaginii este mai bună. "
   ]
  },
  {
   "attachments": {},
   "cell_type": "markdown",
   "metadata": {},
   "source": [
    "De multe ori atunci când afișăm o imagine sub formă de array aceasta poate să aibă valori cuprinse și între 0 și 255, unde 0 reprezintă ceea ce este cu negru, 255 reprezintă alb, iar ceea ce este între sunt nuanțele de gri. Acesta este modul de a reprezenta o imagine alb-negru sub formă de array, nu este ceva ieșit din comun și extrem de complicat."
   ]
  },
  {
   "attachments": {},
   "cell_type": "markdown",
   "metadata": {},
   "source": [
    "Cum se procedează însă cu imaginile color? Deoarece știm că acum toate imaginile sunt color. Imaginile acestea care sunt color pot fi reprezentate sub formă de combinație între culorile Roșu (Red), Verde (Green) și Albastru (Blue) cunoscut și sub acronimul de RGB (Red-Green-Blue). Combinând cantități diferite din aceste trei culori ne permite să creem și să afișăm o varietate de alte culori "
   ]
  },
  {
   "attachments": {},
   "cell_type": "markdown",
   "metadata": {},
   "source": [
    "<img src='../SS/rgb_01.png'>"
   ]
  },
  {
   "attachments": {},
   "cell_type": "markdown",
   "metadata": {},
   "source": [
    "Imaginea de mai sus reprezintă toate culorile care pot fi create utilizând aceste trei culori primare. Punctul D65 reprezintă culoarea alb. Ochiul uman poate percepe mai multe game de culori decât cele prezente în această imagine, iar pe parcursul acestui curs o să învățăm despre ceva metode alternative de a mapa culorile unei imagini prin care putem să utilizăm și alte culori în afară de RGB. Pentru moment o să lucrăm doar cu aceste culori."
   ]
  },
  {
   "attachments": {},
   "cell_type": "markdown",
   "metadata": {},
   "source": [
    "Fiecare culoare o să aibă anumite intensități de valoare care sunt reprezentate de anumite cifre. Ce anume reprezintă acest cifre? Reprezintă intensitatea pentru fiecare dintre cele trei culori primare pentru a se ajunge la o anumită culoare."
   ]
  },
  {
   "attachments": {},
   "cell_type": "markdown",
   "metadata": {},
   "source": [
    "<img src='../SS/rgb_02.png'>"
   ]
  },
  {
   "attachments": {},
   "cell_type": "markdown",
   "metadata": {},
   "source": [
    "De exemplu pentru culoarea acea portocalie de care este afișată în acel pătrat s-au folosit valorile 213 pentru Red, 111 pentru Green și 56 pentru Blue. Fiecar culoare în parte poartă denumirea de color channel. Ce înseamnă asta atunci când citim o imagine color folosind Python? Înseamnă că array-ul care este rezultat în urma citirii imaginii o să aibă trei dimensiuni. Primele două reprezintă înălțimea și lățimea imaginii (height x width), sau mai exact câți pixeli pe câți pixeli este imaginea respectivă. Ultima valoare din array o să fie la rândul ei un array multi-dimensional în care o să fie stocate toate acele color channels. Pentru moment o să folosim ca și culori doar pe aceste 3 (RGB), prin urmare valoarea de pe ultimul element o să fie 3. Dacă citim o imagine color și accesăm atributl shape pentru aceast o să obținem următoarele valori"
   ]
  },
  {
   "attachments": {},
   "cell_type": "markdown",
   "metadata": {},
   "source": [
    "(1280,720,3), unde:\n",
    "\n",
    "1280 = height (câți pixeli are imaginea respectivă pe înălțime)\n",
    "\n",
    "720 = width (câți pixeli are imaginea respectivă pe lățime)\n",
    "\n",
    "3 = numărul de color channel"
   ]
  },
  {
   "attachments": {},
   "cell_type": "markdown",
   "metadata": {},
   "source": [
    "Practiv ultima valoare (3) ne spune că avem un număr de trei color channel (adică Red-Green-Blue). Asta înseamnă că acea valoare de trei reprezintă defapt un număr de trei array-uri unde fiecare array conține o matrice de 1280x720 și fiecare valoare reprezintă cantitatea de Red-Green-Blue pentru fiecare pixel. Valorile acestea sunt cuprinse între 0 și 255. Din moment ce avem trei array-uri, o să presupunem că primul array reprezintă cantitatea de Red, al doilea reprezintă cantitatea de Green, iar al treilea, Blue. Avem acea culoare în imaginea de mai sus. Ca și exemplu să înțelegem o să zicem că acea culoare (acel portocaliu) se găsește în colțul din stânga sus a imaginii, adică este primul pixel. Cum anume o să stocheze Python aceste date? O să stocheze valori în toate cele trei color channels pe care le are. Dacă am spus că prima reprezintă cantitatea de Red, atunci în acel array pe prima valoare (rândul și coloana cu indedx-ul 0 o să conțină valoarea 213), în al doilea channel o să fie valoarea 111, iar în al treilea 56"
   ]
  },
  {
   "attachments": {},
   "cell_type": "markdown",
   "metadata": {},
   "source": [
    "De notat însă faptul că calculatorul nu știe că un anumit channel reprezintă o anumită culoare. Acesta știe doar că sunt trei color channels de intensitate, practic trei array care conține valori pentru nuanțe de gri care defapt reprezintă o anumită culoare."
   ]
  },
  {
   "attachments": {},
   "cell_type": "markdown",
   "metadata": {},
   "source": [
    "<img src='../SS/rgb_03.png'>"
   ]
  },
  {
   "attachments": {},
   "cell_type": "markdown",
   "metadata": {},
   "source": [
    "Atunci când citim o imagine color, defapt calculatorul stochează trei array-uri cu nuanțe de gri specifice pentru una dintre cele trei culori primare, array-uri care arată ca și ultima coloană. Ține de soft-ul pe care îl utilizăm să reprezinte acea coloană și să combine acele trei array-uri pentru a obține în final imaginea completă, cea din stânga."
   ]
  },
  {
   "attachments": {},
   "cell_type": "markdown",
   "metadata": {},
   "source": [
    "Ceea ce citim ca și date reprezintă tot array-uri cu valori cuprinse între 0 și 255, dar acestea reprezintă anumite mapări către cele trei culori primare, un array pentru Red, un aray pentru Green și un array pentru Blue. Utilizatorul trebuie să spună care channel este pentru care coloană, fiecare channel reprezentând doar nuanțe de gri."
   ]
  },
  {
   "cell_type": "markdown",
   "metadata": {},
   "source": []
  }
 ],
 "metadata": {
  "kernelspec": {
   "display_name": "venv",
   "language": "python",
   "name": "python3"
  },
  "language_info": {
   "name": "python",
   "version": "3.9.12"
  },
  "orig_nbformat": 4
 },
 "nbformat": 4,
 "nbformat_minor": 2
}
